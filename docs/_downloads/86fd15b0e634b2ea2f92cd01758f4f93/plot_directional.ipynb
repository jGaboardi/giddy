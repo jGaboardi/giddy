{
 "cells": [
  {
   "cell_type": "code",
   "execution_count": null,
   "metadata": {
    "collapsed": false
   },
   "outputs": [],
   "source": [
    "%matplotlib inline"
   ]
  },
  {
   "cell_type": "markdown",
   "metadata": {},
   "source": [
    "\n# Directional LISA Plotting\n\n\nA directional LISA plot can be used to examine the spatial dynamics of a process.\nBy placing a local indicator of spatial association (LISA) in a dynamic context, insights on directional biases,\nco-movements, space-time hot-spots (and cold-spots) can be generated.\n\nIn this example, we use data on state per-capita incomes for the lower 48 US states that we will first process:\n\n"
   ]
  },
  {
   "cell_type": "code",
   "execution_count": null,
   "metadata": {
    "collapsed": false
   },
   "outputs": [],
   "source": [
    "import libpysal as lps\n",
    "import numpy as np\n",
    "from giddy.directional import Rose\n",
    "f = open(lps.examples.get_path('spi_download.csv'), 'r')\n",
    "lines = f.readlines()\n",
    "f.close()\n",
    "\n",
    "\n",
    "lines = [line.strip().split(\",\") for line in lines]\n",
    "names = [line[2] for line in lines[1:-5]]\n",
    "data = np.array([list(map(int, line[3:])) for line in lines[1:-5]])"
   ]
  },
  {
   "cell_type": "markdown",
   "metadata": {},
   "source": [
    "We can omit the BEA regions and focus only on the lower 48 states\nand place incomes on relative terms:\n\n"
   ]
  },
  {
   "cell_type": "code",
   "execution_count": null,
   "metadata": {
    "collapsed": false
   },
   "outputs": [],
   "source": [
    "sids  = range(60)\n",
    "out = ['\"United States 3/\"',\n",
    "      '\"Alaska 3/\"',\n",
    "      '\"District of Columbia\"',\n",
    "      '\"Hawaii 3/\"',\n",
    "      '\"New England\"','\"Mideast\"',\n",
    "       '\"Great Lakes\"',\n",
    "       '\"Plains\"',\n",
    "       '\"Southeast\"',\n",
    "       '\"Southwest\"',\n",
    "       '\"Rocky Mountain\"',\n",
    "       '\"Far West 3/\"']\n",
    "\n",
    "snames = [name for name in names if name not in out]\n",
    "sids = [names.index(name) for name in snames]\n",
    "states = data[sids,:]\n",
    "us = data[0]\n",
    "years = np.arange(1969, 2009)\n",
    "rel = states/(us*1.)\n",
    "Y = rel[:, [0, -1]]"
   ]
  },
  {
   "cell_type": "markdown",
   "metadata": {},
   "source": [
    "Spatial Weights\n",
    "=====================\n",
    "\n",
    "We will use a simple contiguity structure to define neighbors. The file\n",
    "states48.gal encodes the adjacency structure of the 48 states. We read this in\n",
    "and row-normalize the weights:\n",
    "\n"
   ]
  },
  {
   "cell_type": "code",
   "execution_count": null,
   "metadata": {
    "collapsed": false
   },
   "outputs": [],
   "source": [
    "gal = lps.open(lps.examples.get_path('states48.gal'))\n",
    "w = gal.read()\n",
    "w.transform = 'r'"
   ]
  },
  {
   "cell_type": "markdown",
   "metadata": {},
   "source": [
    "Visualization\n",
    "============== \n",
    "\n",
    " The Rose class creates a circular histogram that can be used to examine the distribution\n",
    " of LISA Vectors across segments of the histogram:\n",
    "\n"
   ]
  },
  {
   "cell_type": "code",
   "execution_count": null,
   "metadata": {
    "collapsed": false
   },
   "outputs": [],
   "source": [
    "r4 = Rose(Y, w, k=4)"
   ]
  },
  {
   "cell_type": "markdown",
   "metadata": {},
   "source": [
    "LISA Vectors\n",
    "============= \n",
    " The Rose class contains methods to carry out inference on the circular distribution of the LISA vectors. The first approach is based on a two-sided alternative where the null is that the distribution of the vectors across the segments reflects independence in the movements of the focal unit and its spatial lag. Inference is based on random spatial permutations under the null.\n",
    "\n"
   ]
  },
  {
   "cell_type": "code",
   "execution_count": null,
   "metadata": {
    "collapsed": false
   },
   "outputs": [],
   "source": [
    "r4.plot_vectors() # lisa vectors"
   ]
  },
  {
   "cell_type": "markdown",
   "metadata": {},
   "source": [
    "LISA Vectors Origin Standardized\n================================ \n As the LISA vectors combine the locations of a give LISA statistic in two different time periods, it can be useful\n to standardize the vectors to look for directional biases in the movements:\n\n"
   ]
  },
  {
   "cell_type": "code",
   "execution_count": null,
   "metadata": {
    "collapsed": false
   },
   "outputs": [],
   "source": [
    "r4.plot_origin() # origin standardized"
   ]
  },
  {
   "cell_type": "markdown",
   "metadata": {},
   "source": [
    "LISA Plot\n========= \n The Rose class contains methods to carry out inference on the circular distribution of the LISA vectors. The first approach is based on a two-sided alternative where the null is that the distribution of the vectors across the segments reflects independence in the movements of the focal unit and its spatial lag. Inference is based on random spatial permutations under the null.\n\n"
   ]
  },
  {
   "cell_type": "code",
   "execution_count": null,
   "metadata": {
    "collapsed": false
   },
   "outputs": [],
   "source": [
    "r4.plot() # Polar"
   ]
  },
  {
   "cell_type": "markdown",
   "metadata": {},
   "source": [
    "Conditional LISA Plot (Focal)\n============================= \nHere we condition on the relative starting income of the focal units: \n\n"
   ]
  },
  {
   "cell_type": "code",
   "execution_count": null,
   "metadata": {
    "collapsed": false
   },
   "outputs": [],
   "source": [
    "r4.plot(attribute=Y[:,0]) # condition on starting relative income"
   ]
  },
  {
   "cell_type": "markdown",
   "metadata": {},
   "source": [
    "Conditional LISA Plot (Spatial Lag)\n=================================== \nHere we condition on the relative starting income of the neighboring units: \n\n"
   ]
  },
  {
   "cell_type": "code",
   "execution_count": null,
   "metadata": {
    "collapsed": false
   },
   "outputs": [],
   "source": [
    "r4.plot(attribute=r4.lag[:,0]) # condition on lag of starting relative income"
   ]
  },
  {
   "cell_type": "markdown",
   "metadata": {},
   "source": [
    "Inference\n========== \n The Rose class contains methods to carry out inference on the circular distribution of the LISA vectors. The first approach is based on a two-sided alternative where the null is that the distribution of the vectors across the segments reflects independence in the movements of the focal unit and its spatial lag. Inference is based on random spatial permutations under the null.\n\n"
   ]
  },
  {
   "cell_type": "code",
   "execution_count": null,
   "metadata": {
    "collapsed": false
   },
   "outputs": [],
   "source": [
    "print(r4.cuts)\n",
    "print(r4.counts)\n",
    "np.random.seed(1234)\n",
    "r4.permute(permutations=999)\n",
    "print(r4.p)"
   ]
  },
  {
   "cell_type": "markdown",
   "metadata": {},
   "source": [
    "Here all the four sector counts are significantly different from their expectation under the null.\nA directional test can also be implemented. Here the direction of the departure from the null due to positive co-movement of a focal unit and its spatial lag over the time period results in two  two general cases. For sectors in the positive quadrants (I and III), the observed counts are considered extreme if they are larger than expectation, while for the negative quadrants (II, IV) the observed counts are considered extreme if they are small than the expected counts under the null.\n\n"
   ]
  },
  {
   "cell_type": "code",
   "execution_count": null,
   "metadata": {
    "collapsed": false
   },
   "outputs": [],
   "source": [
    "r4.permute(alternative='positive', permutations=999)\n",
    "print(r4.p)"
   ]
  },
  {
   "cell_type": "markdown",
   "metadata": {},
   "source": [
    "The expected values are:\n\n"
   ]
  },
  {
   "cell_type": "code",
   "execution_count": null,
   "metadata": {
    "collapsed": false
   },
   "outputs": [],
   "source": [
    "print(r4.expected_perm)"
   ]
  },
  {
   "cell_type": "markdown",
   "metadata": {},
   "source": [
    "Finally, a directional alternative reflecting negative association between the movement of the focal unit and its lag has the complimentary interpretation to the positive alternative: lower counts in I and III, and higher counts in II and IV relative to the null.\n\n"
   ]
  },
  {
   "cell_type": "code",
   "execution_count": null,
   "metadata": {
    "collapsed": false
   },
   "outputs": [],
   "source": [
    "r4.permute(alternative='negative', permutations=999)\n",
    "print(r4.p)"
   ]
  }
 ],
 "metadata": {
  "kernelspec": {
   "display_name": "Python 3",
   "language": "python",
   "name": "python3"
  },
  "language_info": {
   "codemirror_mode": {
    "name": "ipython",
    "version": 3
   },
   "file_extension": ".py",
   "mimetype": "text/x-python",
   "name": "python",
   "nbconvert_exporter": "python",
   "pygments_lexer": "ipython3",
   "version": "3.6.5"
  }
 },
 "nbformat": 4,
 "nbformat_minor": 0
}
